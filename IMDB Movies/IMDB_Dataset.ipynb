{
 "cells": [
  {
   "cell_type": "code",
   "execution_count": 1,
   "metadata": {
    "colab": {
     "base_uri": "https://localhost:8080/"
    },
    "id": "V6TiSZeuZtWf",
    "outputId": "df68d337-e68d-41a0-8c39-1cac2a04f934"
   },
   "outputs": [
    {
     "name": "stderr",
     "output_type": "stream",
     "text": [
      "fatal: destination path 'datasets' already exists and is not an empty directory.\n"
     ]
    }
   ],
   "source": [
    "!git clone https://github.com/AshishJangra27/datasets\n",
    "\n"
   ]
  },
  {
   "cell_type": "code",
   "execution_count": 5,
   "metadata": {},
   "outputs": [
    {
     "data": {
      "text/plain": [
       "[\"'git' is not recognized as an internal or external command,\",\n",
       " 'operable program or batch file.']"
      ]
     },
     "execution_count": 5,
     "metadata": {},
     "output_type": "execute_result"
    }
   ],
   "source": []
  },
  {
   "cell_type": "code",
   "execution_count": 19,
   "metadata": {
    "id": "y3l279QzaO8m"
   },
   "outputs": [],
   "source": [
    "import pandas as pd\n",
    "pd.set_option('display.max_rows', None)"
   ]
  },
  {
   "cell_type": "code",
   "execution_count": 6,
   "metadata": {
    "colab": {
     "base_uri": "https://localhost:8080/",
     "height": 981
    },
    "id": "-6hQ2H2JaQO2",
    "outputId": "d7c34ce5-9bcf-44e0-9be3-99eef9d9a731"
   },
   "outputs": [
    {
     "data": {
      "text/html": [
       "<div>\n",
       "<style scoped>\n",
       "    .dataframe tbody tr th:only-of-type {\n",
       "        vertical-align: middle;\n",
       "    }\n",
       "\n",
       "    .dataframe tbody tr th {\n",
       "        vertical-align: top;\n",
       "    }\n",
       "\n",
       "    .dataframe thead th {\n",
       "        text-align: right;\n",
       "    }\n",
       "</style>\n",
       "<table border=\"1\" class=\"dataframe\">\n",
       "  <thead>\n",
       "    <tr style=\"text-align: right;\">\n",
       "      <th></th>\n",
       "      <th>id</th>\n",
       "      <th>name</th>\n",
       "      <th>year</th>\n",
       "      <th>rating</th>\n",
       "      <th>certificate</th>\n",
       "      <th>duration</th>\n",
       "      <th>genre</th>\n",
       "      <th>votes</th>\n",
       "      <th>gross_income</th>\n",
       "      <th>directors_id</th>\n",
       "      <th>directors_name</th>\n",
       "      <th>stars_id</th>\n",
       "      <th>stars_name</th>\n",
       "      <th>description</th>\n",
       "    </tr>\n",
       "  </thead>\n",
       "  <tbody>\n",
       "    <tr>\n",
       "      <th>0</th>\n",
       "      <td>tt0068646</td>\n",
       "      <td>The Godfather</td>\n",
       "      <td>1972</td>\n",
       "      <td>9.2</td>\n",
       "      <td>R</td>\n",
       "      <td>175 min</td>\n",
       "      <td>Crime, Drama</td>\n",
       "      <td>1798749</td>\n",
       "      <td>134,966,411</td>\n",
       "      <td>nm0000338</td>\n",
       "      <td>Francis Ford Coppola</td>\n",
       "      <td>nm0000008,nm0000199,nm0001001,nm0000473</td>\n",
       "      <td>Marlon Brando,Al Pacino,James Caan,Diane Keaton</td>\n",
       "      <td>The aging patriarch of an organized crime dyna...</td>\n",
       "    </tr>\n",
       "    <tr>\n",
       "      <th>1</th>\n",
       "      <td>tt5113044</td>\n",
       "      <td>Minions: The Rise of Gru</td>\n",
       "      <td>2022</td>\n",
       "      <td>7.3</td>\n",
       "      <td>PG</td>\n",
       "      <td>87 min</td>\n",
       "      <td>Animation, Adventure, Comedy</td>\n",
       "      <td>1,220</td>\n",
       "      <td>134,966,411</td>\n",
       "      <td>nm0049633,nm1556070,nm3646390</td>\n",
       "      <td>Kyle Balda,Brad Ableson,Jonathan del Val</td>\n",
       "      <td>nm0136797,nm1853544,nm0000273,nm0378245</td>\n",
       "      <td>Steve Carell,Pierre Coffin,Alan Arkin,Taraji P...</td>\n",
       "      <td>The untold story of one twelve-year-old's drea...</td>\n",
       "    </tr>\n",
       "    <tr>\n",
       "      <th>2</th>\n",
       "      <td>tt7657566</td>\n",
       "      <td>Death on the Nile</td>\n",
       "      <td>2022</td>\n",
       "      <td>6.3</td>\n",
       "      <td>PG-13</td>\n",
       "      <td>127 min</td>\n",
       "      <td>Crime, Drama, Mystery</td>\n",
       "      <td>121,063</td>\n",
       "      <td>134,966,411</td>\n",
       "      <td>nm0000110</td>\n",
       "      <td>Kenneth Branagh</td>\n",
       "      <td>nm5290643,nm0000906,nm0000110,nm1258970</td>\n",
       "      <td>Tom Bateman,Annette Bening,Kenneth Branagh,Rus...</td>\n",
       "      <td>While on vacation on the Nile, Hercule Poirot ...</td>\n",
       "    </tr>\n",
       "    <tr>\n",
       "      <th>3</th>\n",
       "      <td>tt8115900</td>\n",
       "      <td>The Bad Guys</td>\n",
       "      <td>2022</td>\n",
       "      <td>6.9</td>\n",
       "      <td>PG</td>\n",
       "      <td>100 min</td>\n",
       "      <td>Animation, Adventure, Comedy</td>\n",
       "      <td>23,090</td>\n",
       "      <td>134,966,411</td>\n",
       "      <td>nm2010048</td>\n",
       "      <td>Pierre Perifel</td>\n",
       "      <td>nm0005377,nm0549505,nm5377144,nm0732497</td>\n",
       "      <td>Sam Rockwell,Marc Maron,Awkwafina,Craig Robinson</td>\n",
       "      <td>Several reformed yet misunderstood criminal an...</td>\n",
       "    </tr>\n",
       "    <tr>\n",
       "      <th>4</th>\n",
       "      <td>tt10809742</td>\n",
       "      <td>Collision</td>\n",
       "      <td>2022</td>\n",
       "      <td>3.8</td>\n",
       "      <td>TV-MA</td>\n",
       "      <td>99 min</td>\n",
       "      <td>Crime, Drama, Thriller</td>\n",
       "      <td>656</td>\n",
       "      <td>134,966,411</td>\n",
       "      <td>nm1926494</td>\n",
       "      <td>Fabien Martorell</td>\n",
       "      <td>nm1339181,nm0456810,nm12651040,nm7357127</td>\n",
       "      <td>Tessa Jubber,Langley Kirkwood,Zoey Sneedon,Bon...</td>\n",
       "      <td>Freedom always comes at a price.</td>\n",
       "    </tr>\n",
       "    <tr>\n",
       "      <th>...</th>\n",
       "      <td>...</td>\n",
       "      <td>...</td>\n",
       "      <td>...</td>\n",
       "      <td>...</td>\n",
       "      <td>...</td>\n",
       "      <td>...</td>\n",
       "      <td>...</td>\n",
       "      <td>...</td>\n",
       "      <td>...</td>\n",
       "      <td>...</td>\n",
       "      <td>...</td>\n",
       "      <td>...</td>\n",
       "      <td>...</td>\n",
       "      <td>...</td>\n",
       "    </tr>\n",
       "    <tr>\n",
       "      <th>19803</th>\n",
       "      <td>tt0459423</td>\n",
       "      <td>Kahaani Gudiya Ki...: True Story of a Woman</td>\n",
       "      <td>2008</td>\n",
       "      <td>6.2</td>\n",
       "      <td>Not Rated</td>\n",
       "      <td>112 min</td>\n",
       "      <td>Biography, Drama</td>\n",
       "      <td>41</td>\n",
       "      <td>44,435</td>\n",
       "      <td>nm1909606</td>\n",
       "      <td>Prabhakar Shukla</td>\n",
       "      <td>nm0244890,nm0952232,nm1056425,nm6389513</td>\n",
       "      <td>Divya Dutta,Arif Zakaria,Rajpal Naurang Yadav,...</td>\n",
       "      <td>A tragic saga about a woman named Gudiya, whos...</td>\n",
       "    </tr>\n",
       "    <tr>\n",
       "      <th>19804</th>\n",
       "      <td>tt0119621</td>\n",
       "      <td>Mark Twain's America in</td>\n",
       "      <td>1998</td>\n",
       "      <td>6.5</td>\n",
       "      <td>G</td>\n",
       "      <td>52 min</td>\n",
       "      <td>Documentary, Biography</td>\n",
       "      <td>48</td>\n",
       "      <td>2,281,741</td>\n",
       "      <td>nm0522844</td>\n",
       "      <td>Stephen Low</td>\n",
       "      <td>nm0000843,nm0640297,nm4700843,nm1838044</td>\n",
       "      <td>Anne Bancroft,Dennis O'Connor,Kim Parr,LeeAnn ...</td>\n",
       "      <td>Interweaves Twain's life and times with the li...</td>\n",
       "    </tr>\n",
       "    <tr>\n",
       "      <th>19805</th>\n",
       "      <td>tt0168950</td>\n",
       "      <td>Let It Come Down: The Life of Paul Bowles</td>\n",
       "      <td>1998</td>\n",
       "      <td>6.9</td>\n",
       "      <td>Not Rated</td>\n",
       "      <td>75 min</td>\n",
       "      <td>Documentary, Biography</td>\n",
       "      <td>125</td>\n",
       "      <td>9,188</td>\n",
       "      <td>nm0047028</td>\n",
       "      <td>Jennifer Baichwal</td>\n",
       "      <td>nm0101247,nm0123221,nm0155822,nm0159383</td>\n",
       "      <td>Paul Bowles,William S. Burroughs,Cherifa,Moham...</td>\n",
       "      <td>Add a Plot</td>\n",
       "    </tr>\n",
       "    <tr>\n",
       "      <th>19806</th>\n",
       "      <td>tt0267563</td>\n",
       "      <td>Hybrid</td>\n",
       "      <td>2000</td>\n",
       "      <td>7.4</td>\n",
       "      <td>Not Rated</td>\n",
       "      <td>92 min</td>\n",
       "      <td>Documentary, Biography</td>\n",
       "      <td>146</td>\n",
       "      <td>159,403</td>\n",
       "      <td>/name/nm0566144/,/name/nm1084921/</td>\n",
       "      <td>Monteith McCollum,Milford Beeghly</td>\n",
       "      <td>nm1084921</td>\n",
       "      <td>Milford Beeghly</td>\n",
       "      <td>The life story of Milford Beeghly: Iowa farmer...</td>\n",
       "    </tr>\n",
       "    <tr>\n",
       "      <th>19807</th>\n",
       "      <td>tt0116481</td>\n",
       "      <td>Hands on a Hardbody: The Documentary</td>\n",
       "      <td>1997</td>\n",
       "      <td>7.6</td>\n",
       "      <td>PG</td>\n",
       "      <td>98 min</td>\n",
       "      <td>Documentary, Comedy, Drama</td>\n",
       "      <td>2167</td>\n",
       "      <td>492,876</td>\n",
       "      <td>nm0082835</td>\n",
       "      <td>S.R. Bindler</td>\n",
       "      <td>nm0021057,nm1828145,nm0185044,nm0190040</td>\n",
       "      <td>Sid Allen,Brent Baskin,Greg Cox,J.C. Crum</td>\n",
       "      <td>Twenty-four contestants compete in an enduranc...</td>\n",
       "    </tr>\n",
       "  </tbody>\n",
       "</table>\n",
       "<p>19808 rows × 14 columns</p>\n",
       "</div>"
      ],
      "text/plain": [
       "               id                                         name  year  rating  \\\n",
       "0       tt0068646                                The Godfather  1972     9.2   \n",
       "1       tt5113044                     Minions: The Rise of Gru  2022     7.3   \n",
       "2       tt7657566                            Death on the Nile  2022     6.3   \n",
       "3       tt8115900                                 The Bad Guys  2022     6.9   \n",
       "4      tt10809742                                    Collision  2022     3.8   \n",
       "...           ...                                          ...   ...     ...   \n",
       "19803   tt0459423  Kahaani Gudiya Ki...: True Story of a Woman  2008     6.2   \n",
       "19804   tt0119621                      Mark Twain's America in  1998     6.5   \n",
       "19805   tt0168950    Let It Come Down: The Life of Paul Bowles  1998     6.9   \n",
       "19806   tt0267563                                       Hybrid  2000     7.4   \n",
       "19807   tt0116481         Hands on a Hardbody: The Documentary  1997     7.6   \n",
       "\n",
       "      certificate duration                         genre    votes  \\\n",
       "0               R  175 min                  Crime, Drama  1798749   \n",
       "1              PG   87 min  Animation, Adventure, Comedy    1,220   \n",
       "2           PG-13  127 min         Crime, Drama, Mystery  121,063   \n",
       "3              PG  100 min  Animation, Adventure, Comedy   23,090   \n",
       "4           TV-MA   99 min        Crime, Drama, Thriller      656   \n",
       "...           ...      ...                           ...      ...   \n",
       "19803   Not Rated  112 min              Biography, Drama       41   \n",
       "19804           G   52 min        Documentary, Biography       48   \n",
       "19805   Not Rated   75 min        Documentary, Biography      125   \n",
       "19806   Not Rated   92 min        Documentary, Biography      146   \n",
       "19807          PG   98 min    Documentary, Comedy, Drama     2167   \n",
       "\n",
       "      gross_income                       directors_id  \\\n",
       "0      134,966,411                          nm0000338   \n",
       "1      134,966,411      nm0049633,nm1556070,nm3646390   \n",
       "2      134,966,411                          nm0000110   \n",
       "3      134,966,411                          nm2010048   \n",
       "4      134,966,411                          nm1926494   \n",
       "...            ...                                ...   \n",
       "19803       44,435                          nm1909606   \n",
       "19804    2,281,741                          nm0522844   \n",
       "19805        9,188                          nm0047028   \n",
       "19806      159,403  /name/nm0566144/,/name/nm1084921/   \n",
       "19807      492,876                          nm0082835   \n",
       "\n",
       "                                 directors_name  \\\n",
       "0                          Francis Ford Coppola   \n",
       "1      Kyle Balda,Brad Ableson,Jonathan del Val   \n",
       "2                               Kenneth Branagh   \n",
       "3                                Pierre Perifel   \n",
       "4                              Fabien Martorell   \n",
       "...                                         ...   \n",
       "19803                          Prabhakar Shukla   \n",
       "19804                               Stephen Low   \n",
       "19805                         Jennifer Baichwal   \n",
       "19806         Monteith McCollum,Milford Beeghly   \n",
       "19807                              S.R. Bindler   \n",
       "\n",
       "                                       stars_id  \\\n",
       "0       nm0000008,nm0000199,nm0001001,nm0000473   \n",
       "1       nm0136797,nm1853544,nm0000273,nm0378245   \n",
       "2       nm5290643,nm0000906,nm0000110,nm1258970   \n",
       "3       nm0005377,nm0549505,nm5377144,nm0732497   \n",
       "4      nm1339181,nm0456810,nm12651040,nm7357127   \n",
       "...                                         ...   \n",
       "19803   nm0244890,nm0952232,nm1056425,nm6389513   \n",
       "19804   nm0000843,nm0640297,nm4700843,nm1838044   \n",
       "19805   nm0101247,nm0123221,nm0155822,nm0159383   \n",
       "19806                                 nm1084921   \n",
       "19807   nm0021057,nm1828145,nm0185044,nm0190040   \n",
       "\n",
       "                                              stars_name  \\\n",
       "0        Marlon Brando,Al Pacino,James Caan,Diane Keaton   \n",
       "1      Steve Carell,Pierre Coffin,Alan Arkin,Taraji P...   \n",
       "2      Tom Bateman,Annette Bening,Kenneth Branagh,Rus...   \n",
       "3       Sam Rockwell,Marc Maron,Awkwafina,Craig Robinson   \n",
       "4      Tessa Jubber,Langley Kirkwood,Zoey Sneedon,Bon...   \n",
       "...                                                  ...   \n",
       "19803  Divya Dutta,Arif Zakaria,Rajpal Naurang Yadav,...   \n",
       "19804  Anne Bancroft,Dennis O'Connor,Kim Parr,LeeAnn ...   \n",
       "19805  Paul Bowles,William S. Burroughs,Cherifa,Moham...   \n",
       "19806                                    Milford Beeghly   \n",
       "19807          Sid Allen,Brent Baskin,Greg Cox,J.C. Crum   \n",
       "\n",
       "                                             description  \n",
       "0      The aging patriarch of an organized crime dyna...  \n",
       "1      The untold story of one twelve-year-old's drea...  \n",
       "2      While on vacation on the Nile, Hercule Poirot ...  \n",
       "3      Several reformed yet misunderstood criminal an...  \n",
       "4                       Freedom always comes at a price.  \n",
       "...                                                  ...  \n",
       "19803  A tragic saga about a woman named Gudiya, whos...  \n",
       "19804  Interweaves Twain's life and times with the li...  \n",
       "19805                                         Add a Plot  \n",
       "19806  The life story of Milford Beeghly: Iowa farmer...  \n",
       "19807  Twenty-four contestants compete in an enduranc...  \n",
       "\n",
       "[19808 rows x 14 columns]"
      ]
     },
     "execution_count": 6,
     "metadata": {},
     "output_type": "execute_result"
    }
   ],
   "source": [
    "df = pd.read_csv('D:\\\\data cleaning\\\\datasets\\\\IMDB Movies\\\\movies.csv')\n",
    "df"
   ]
  },
  {
   "cell_type": "markdown",
   "metadata": {
    "id": "wjwbm0nndI1P"
   },
   "source": [
    "## Checking for NULL values"
   ]
  },
  {
   "cell_type": "code",
   "execution_count": 7,
   "metadata": {
    "colab": {
     "base_uri": "https://localhost:8080/",
     "height": 523
    },
    "id": "AwcgN0mUdQuP",
    "outputId": "cefe6e84-5ea7-428d-9ada-a052e50af1a0"
   },
   "outputs": [
    {
     "data": {
      "text/plain": [
       "id                0\n",
       "name              0\n",
       "year              0\n",
       "rating            0\n",
       "certificate       0\n",
       "duration          0\n",
       "genre             0\n",
       "votes             0\n",
       "gross_income      0\n",
       "directors_id      0\n",
       "directors_name    0\n",
       "stars_id          0\n",
       "stars_name        0\n",
       "description       0\n",
       "dtype: int64"
      ]
     },
     "execution_count": 7,
     "metadata": {},
     "output_type": "execute_result"
    }
   ],
   "source": [
    "df.isnull().sum()"
   ]
  },
  {
   "cell_type": "markdown",
   "metadata": {
    "id": "B6F9lK9qdSsT"
   },
   "source": [
    "## Checking for Duplicates"
   ]
  },
  {
   "cell_type": "code",
   "execution_count": 8,
   "metadata": {
    "id": "AQWdpMZ8aZlo"
   },
   "outputs": [],
   "source": [
    "df.drop_duplicates(subset = 'id', inplace = True)"
   ]
  },
  {
   "cell_type": "markdown",
   "metadata": {
    "id": "mTv4kd23doM0"
   },
   "source": [
    "## Cleaning the Duration column"
   ]
  },
  {
   "cell_type": "code",
   "execution_count": 9,
   "metadata": {
    "id": "J6vCiMhDds9W"
   },
   "outputs": [],
   "source": [
    "df['duration'] = df['duration'].apply(lambda x: x.split(' ')[0]) # spliting by ' ' then taking the number\n",
    "df['duration'] = df['duration'].apply(lambda x: x.replace(',', '')) # replacing the , by ''\n",
    "df['duration'] = df['duration'].astype(int) # typecasting into int\n"
   ]
  },
  {
   "cell_type": "markdown",
   "metadata": {
    "id": "2skfM79yhVOJ"
   },
   "source": [
    "## Cleaning Gross Income"
   ]
  },
  {
   "cell_type": "code",
   "execution_count": 10,
   "metadata": {
    "id": "YfAZwuG8k_zQ"
   },
   "outputs": [],
   "source": [
    "df['gross_income'] = df['gross_income'].apply(lambda x: x.replace(',','').replace('$',''))\n",
    "\n",
    "gross = []\n",
    "\n",
    "for i in df['gross_income']:\n",
    "  if 'M' in i:\n",
    "    i = i.replace('M','')\n",
    "    gross.append(float(i)*1000000)\n",
    "  elif 'K' in i:\n",
    "    i = i.replace('K','')\n",
    "    gross.append(float(i)*1000)\n",
    "  else:\n",
    "    gross.append(float(i))\n",
    "\n",
    "df['gross_income'] = gross\n"
   ]
  },
  {
   "cell_type": "code",
   "execution_count": 11,
   "metadata": {
    "colab": {
     "base_uri": "https://localhost:8080/",
     "height": 458
    },
    "id": "VOyqvV1JSVLZ",
    "outputId": "dc3d8059-697d-48f8-f63e-986741acd0da"
   },
   "outputs": [
    {
     "data": {
      "text/plain": [
       "0        134966411\n",
       "1        134966411\n",
       "2        134966411\n",
       "3        134966411\n",
       "4        134966411\n",
       "           ...    \n",
       "19803        44435\n",
       "19804      2281741\n",
       "19805         9188\n",
       "19806       159403\n",
       "19807       492876\n",
       "Name: gross_income, Length: 19808, dtype: int64"
      ]
     },
     "execution_count": 11,
     "metadata": {},
     "output_type": "execute_result"
    }
   ],
   "source": [
    "df['gross_income'].astype(int)"
   ]
  },
  {
   "cell_type": "code",
   "execution_count": 20,
   "metadata": {
    "id": "eW4tv8mRUgJ5"
   },
   "outputs": [
    {
     "data": {
      "text/plain": [
       "array([1.34966411e+08, 5.73000000e+07, 7.13069600e+06, ...,\n",
       "       9.18800000e+03, 1.59403000e+05, 4.92876000e+05], shape=(9860,))"
      ]
     },
     "execution_count": 20,
     "metadata": {},
     "output_type": "execute_result"
    }
   ],
   "source": [
    "df['gross_income'].unique()"
   ]
  }
 ],
 "metadata": {
  "colab": {
   "provenance": [],
   "toc_visible": true
  },
  "kernelspec": {
   "display_name": "Python 3 (ipykernel)",
   "language": "python",
   "name": "python3"
  },
  "language_info": {
   "codemirror_mode": {
    "name": "ipython",
    "version": 3
   },
   "file_extension": ".py",
   "mimetype": "text/x-python",
   "name": "python",
   "nbconvert_exporter": "python",
   "pygments_lexer": "ipython3",
   "version": "3.12.8"
  }
 },
 "nbformat": 4,
 "nbformat_minor": 4
}
