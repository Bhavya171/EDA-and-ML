{
 "cells": [
  {
   "cell_type": "code",
   "execution_count": null,
   "metadata": {
    "colab": {
     "base_uri": "https://localhost:8080/"
    },
    "id": "Njs8OKzzxJHA",
    "outputId": "c1c6c067-c72c-4f8a-eec2-ac2a6ef9973d"
   },
   "outputs": [],
   "source": [
    "\n"
   ]
  },
  {
   "cell_type": "code",
   "execution_count": 1,
   "metadata": {
    "id": "uNJN36FfxSyY"
   },
   "outputs": [],
   "source": [
    "import pandas as pd"
   ]
  },
  {
   "cell_type": "code",
   "execution_count": 5,
   "metadata": {
    "id": "C-GtUJ58xWF8",
    "scrolled": true
   },
   "outputs": [
    {
     "data": {
      "text/html": [
       "<div>\n",
       "<style scoped>\n",
       "    .dataframe tbody tr th:only-of-type {\n",
       "        vertical-align: middle;\n",
       "    }\n",
       "\n",
       "    .dataframe tbody tr th {\n",
       "        vertical-align: top;\n",
       "    }\n",
       "\n",
       "    .dataframe thead th {\n",
       "        text-align: right;\n",
       "    }\n",
       "</style>\n",
       "<table border=\"1\" class=\"dataframe\">\n",
       "  <thead>\n",
       "    <tr style=\"text-align: right;\">\n",
       "      <th></th>\n",
       "      <th>id</th>\n",
       "      <th>name</th>\n",
       "      <th>rating</th>\n",
       "      <th>reviews</th>\n",
       "      <th>host_name</th>\n",
       "      <th>host_id</th>\n",
       "      <th>address</th>\n",
       "      <th>features</th>\n",
       "      <th>amenities</th>\n",
       "      <th>safety_rules</th>\n",
       "      <th>hourse_rules</th>\n",
       "      <th>img_links</th>\n",
       "      <th>price</th>\n",
       "    </tr>\n",
       "  </thead>\n",
       "  <tbody>\n",
       "    <tr>\n",
       "      <th>0</th>\n",
       "      <td>49849504</td>\n",
       "      <td>Perla bungalov</td>\n",
       "      <td>4.71</td>\n",
       "      <td>64</td>\n",
       "      <td>Entire bungalow hosted by Mehmetcan</td>\n",
       "      <td>357334205.0</td>\n",
       "      <td>Kartepe, Kocaeli, Turkey</td>\n",
       "      <td>2 guests,2 bedrooms,1 bed,1 bathroom</td>\n",
       "      <td>Mountain view,Valley view,Lake access,Kitchen,...</td>\n",
       "      <td>󹀁,Airbnb's COVID-19 safety practices apply,󱠃,N...</td>\n",
       "      <td>Check-in: Flexible,Check out: 12:00 pm,Pets ar...</td>\n",
       "      <td>https://a0.muscache.com/im/pictures/a5da5cb7-c...</td>\n",
       "      <td>₹8,078 per night</td>\n",
       "    </tr>\n",
       "    <tr>\n",
       "      <th>1</th>\n",
       "      <td>50891766</td>\n",
       "      <td>Authentic Beach Architect Sheltered Villa with...</td>\n",
       "      <td>New</td>\n",
       "      <td>NaN</td>\n",
       "      <td>Entire villa hosted by Fatih</td>\n",
       "      <td>386223873.0</td>\n",
       "      <td>Kaş, Antalya, Turkey</td>\n",
       "      <td>4 guests,2 bedrooms,2 beds,2 bathrooms</td>\n",
       "      <td>Kitchen,Wifi,Dedicated workspace,Free parking ...</td>\n",
       "      <td>󹀁,Airbnb's COVID-19 safety practices apply,󱠆,C...</td>\n",
       "      <td>Check-in: 4:00 pm - 11:00 pm,Check out: 10:00 ...</td>\n",
       "      <td>https://a0.muscache.com/im/pictures/61b70855-2...</td>\n",
       "      <td>₹4,665 per night</td>\n",
       "    </tr>\n",
       "    <tr>\n",
       "      <th>2</th>\n",
       "      <td>50699164</td>\n",
       "      <td>cottages sataplia</td>\n",
       "      <td>4.85</td>\n",
       "      <td>68</td>\n",
       "      <td>Entire cabin hosted by Giorgi</td>\n",
       "      <td>409690853.0</td>\n",
       "      <td>Imereti, Georgia</td>\n",
       "      <td>4 guests,1 bedroom,3 beds,1 bathroom</td>\n",
       "      <td>Mountain view,Kitchen,Wifi,Dedicated workspace...</td>\n",
       "      <td>󹀁,Airbnb's COVID-19 safety practices apply,󱠃,N...</td>\n",
       "      <td>Check-in: After 1:00 pm,Check out: 12:00 pm,Se...</td>\n",
       "      <td>https://a0.muscache.com/im/pictures/miso/Hosti...</td>\n",
       "      <td>₹5,991 per night</td>\n",
       "    </tr>\n",
       "    <tr>\n",
       "      <th>3</th>\n",
       "      <td>49871422</td>\n",
       "      <td>Sapanca Breathable Bungalow</td>\n",
       "      <td>5.0</td>\n",
       "      <td>13</td>\n",
       "      <td>Entire bungalow hosted by Melih</td>\n",
       "      <td>401873242.0</td>\n",
       "      <td>Sapanca, Sakarya, Turkey</td>\n",
       "      <td>4 guests,1 bedroom,2 beds,1 bathroom</td>\n",
       "      <td>Mountain view,Valley view,Kitchen,Wifi,Free pa...</td>\n",
       "      <td>󹀁,Airbnb's COVID-19 safety practices apply,󱠃,N...</td>\n",
       "      <td>Check-in: After 2:00 pm,Check out: 12:00 pm,No...</td>\n",
       "      <td>https://a0.muscache.com/im/pictures/72e6396e-e...</td>\n",
       "      <td>₹11,339 per night</td>\n",
       "    </tr>\n",
       "    <tr>\n",
       "      <th>4</th>\n",
       "      <td>51245886</td>\n",
       "      <td>Bungalov Ev 2</td>\n",
       "      <td>New</td>\n",
       "      <td>NaN</td>\n",
       "      <td>Entire bungalow hosted by Arp Sapanca</td>\n",
       "      <td>414884116.0</td>\n",
       "      <td>Sapanca, Sakarya, Turkey</td>\n",
       "      <td>2 guests,1 bedroom,1 bed,1 bathroom</td>\n",
       "      <td>Kitchen,Wifi,Free parking on premises,TV,Air c...</td>\n",
       "      <td>󹀁,Airbnb's COVID-19 safety practices apply,󱠆,C...</td>\n",
       "      <td>Check-in: After 2:00 pm,Check out: 12:00 pm,No...</td>\n",
       "      <td>https://a0.muscache.com/im/pictures/73973308-e...</td>\n",
       "      <td>₹6,673 per night</td>\n",
       "    </tr>\n",
       "    <tr>\n",
       "      <th>...</th>\n",
       "      <td>...</td>\n",
       "      <td>...</td>\n",
       "      <td>...</td>\n",
       "      <td>...</td>\n",
       "      <td>...</td>\n",
       "      <td>...</td>\n",
       "      <td>...</td>\n",
       "      <td>...</td>\n",
       "      <td>...</td>\n",
       "      <td>...</td>\n",
       "      <td>...</td>\n",
       "      <td>...</td>\n",
       "      <td>...</td>\n",
       "    </tr>\n",
       "    <tr>\n",
       "      <th>14451</th>\n",
       "      <td>44697740</td>\n",
       "      <td>Brown Dome House No. 3, full of healing</td>\n",
       "      <td>4.94</td>\n",
       "      <td>16</td>\n",
       "      <td>Dome hosted by Aidan</td>\n",
       "      <td>161552316.0</td>\n",
       "      <td>Imhoe-myeon, Jindo, South Jeolla Province, Sou...</td>\n",
       "      <td>4 guests,8 bathrooms</td>\n",
       "      <td>Kitchen,Wifi,Free parking on premises,Private ...</td>\n",
       "      <td>󹀁,Airbnb's COVID-19 safety practices apply,󱠁,C...</td>\n",
       "      <td>Check-in: 3:00 pm - 11:00 pm,Check out: 11:00 ...</td>\n",
       "      <td>https://a0.muscache.com/im/pictures/miso/Hosti...</td>\n",
       "      <td>₹4,288 per night</td>\n",
       "    </tr>\n",
       "    <tr>\n",
       "      <th>14452</th>\n",
       "      <td>29975283</td>\n",
       "      <td>Bubble Hotel Ubud with Bathtub under the Sky</td>\n",
       "      <td>4.67</td>\n",
       "      <td>6</td>\n",
       "      <td>Tent hosted by Martha</td>\n",
       "      <td>118954227.0</td>\n",
       "      <td>Gianyar, Indonesia</td>\n",
       "      <td>2 guests,1 bedroom,1 bed,Toilet with sink</td>\n",
       "      <td>Wifi,Free on-street parking,Air conditioning,G...</td>\n",
       "      <td>󹀁,Airbnb's COVID-19 safety practices apply,󱠆,C...</td>\n",
       "      <td>Check-in: 3:00 pm - 10:00 pm,Check out: 12:00 ...</td>\n",
       "      <td>https://a0.muscache.com/im/pictures/5ba944b2-b...</td>\n",
       "      <td>₹15,200 per night</td>\n",
       "    </tr>\n",
       "    <tr>\n",
       "      <th>14453</th>\n",
       "      <td>32977697</td>\n",
       "      <td>Paradise Eco Hub</td>\n",
       "      <td>4.67</td>\n",
       "      <td>3</td>\n",
       "      <td>Private room in dome hosted by Silas</td>\n",
       "      <td>175214568.0</td>\n",
       "      <td>Kabale, Uganda</td>\n",
       "      <td>2 guests,1 bedroom,2 beds,1 private bathroom</td>\n",
       "      <td>Wifi,Breakfast,Long-term stays allowed,Unavail...</td>\n",
       "      <td>󹀁,Airbnb's COVID-19 safety practices apply,󱠃,N...</td>\n",
       "      <td>Check-in: After 3:00 pm</td>\n",
       "      <td>https://a0.muscache.com/im/pictures/1f442c84-4...</td>\n",
       "      <td>₹9,103 per night</td>\n",
       "    </tr>\n",
       "    <tr>\n",
       "      <th>14454</th>\n",
       "      <td>8006146</td>\n",
       "      <td>WisDOME - Mentigi Bay Village - Gilis - Lombok</td>\n",
       "      <td>4.86</td>\n",
       "      <td>7</td>\n",
       "      <td>Dome hosted by Cempaka</td>\n",
       "      <td>718423.0</td>\n",
       "      <td>Gunung Sari, Nusa Tenggara Barat, Indonesia</td>\n",
       "      <td>8 guests,2 bedrooms,4 beds,2.5 bathrooms</td>\n",
       "      <td>Kitchen,Wifi,Dedicated workspace,Free parking ...</td>\n",
       "      <td>󹀁,Airbnb's COVID-19 safety practices apply,󱠆,C...</td>\n",
       "      <td>Check-in: Flexible,Check out: 12:00 pm,No pets...</td>\n",
       "      <td>https://a0.muscache.com/im/pictures/105116799/...</td>\n",
       "      <td>₹42,262 per night</td>\n",
       "    </tr>\n",
       "    <tr>\n",
       "      <th>14455</th>\n",
       "      <td>40547903</td>\n",
       "      <td>Enjoy Vitamin SEA!  Ocean Front! [Ocean's Seven]</td>\n",
       "      <td>4.85</td>\n",
       "      <td>13</td>\n",
       "      <td>Dome hosted by Achy</td>\n",
       "      <td>246470880.0</td>\n",
       "      <td>Uruma, Okinawa, Japan</td>\n",
       "      <td>5 guests,1 bedroom,2 beds,1 bathroom</td>\n",
       "      <td>Sea view,Beach access – Beachfront,Kitchen,Wif...</td>\n",
       "      <td>󹀁,Airbnb's COVID-19 safety practices apply,󱠃,S...</td>\n",
       "      <td>Check-in: After 4:00 pm,Check out: 11:00 am,Se...</td>\n",
       "      <td>https://a0.muscache.com/im/pictures/9b04ee4c-c...</td>\n",
       "      <td>₹9,909 per night</td>\n",
       "    </tr>\n",
       "  </tbody>\n",
       "</table>\n",
       "<p>14456 rows × 13 columns</p>\n",
       "</div>"
      ],
      "text/plain": [
       "             id                                               name rating  \\\n",
       "0      49849504                                     Perla bungalov   4.71   \n",
       "1      50891766  Authentic Beach Architect Sheltered Villa with...    New   \n",
       "2      50699164                                  cottages sataplia   4.85   \n",
       "3      49871422                        Sapanca Breathable Bungalow    5.0   \n",
       "4      51245886                                      Bungalov Ev 2    New   \n",
       "...         ...                                                ...    ...   \n",
       "14451  44697740            Brown Dome House No. 3, full of healing   4.94   \n",
       "14452  29975283       Bubble Hotel Ubud with Bathtub under the Sky   4.67   \n",
       "14453  32977697                                   Paradise Eco Hub   4.67   \n",
       "14454   8006146     WisDOME - Mentigi Bay Village - Gilis - Lombok   4.86   \n",
       "14455  40547903   Enjoy Vitamin SEA!  Ocean Front! [Ocean's Seven]   4.85   \n",
       "\n",
       "      reviews                              host_name      host_id  \\\n",
       "0          64    Entire bungalow hosted by Mehmetcan  357334205.0   \n",
       "1         NaN           Entire villa hosted by Fatih  386223873.0   \n",
       "2          68          Entire cabin hosted by Giorgi  409690853.0   \n",
       "3          13        Entire bungalow hosted by Melih  401873242.0   \n",
       "4         NaN  Entire bungalow hosted by Arp Sapanca  414884116.0   \n",
       "...       ...                                    ...          ...   \n",
       "14451      16                   Dome hosted by Aidan  161552316.0   \n",
       "14452       6                  Tent hosted by Martha  118954227.0   \n",
       "14453       3   Private room in dome hosted by Silas  175214568.0   \n",
       "14454       7                 Dome hosted by Cempaka     718423.0   \n",
       "14455      13                    Dome hosted by Achy  246470880.0   \n",
       "\n",
       "                                                 address  \\\n",
       "0                               Kartepe, Kocaeli, Turkey   \n",
       "1                                   Kaş, Antalya, Turkey   \n",
       "2                                       Imereti, Georgia   \n",
       "3                               Sapanca, Sakarya, Turkey   \n",
       "4                               Sapanca, Sakarya, Turkey   \n",
       "...                                                  ...   \n",
       "14451  Imhoe-myeon, Jindo, South Jeolla Province, Sou...   \n",
       "14452                                 Gianyar, Indonesia   \n",
       "14453                                     Kabale, Uganda   \n",
       "14454        Gunung Sari, Nusa Tenggara Barat, Indonesia   \n",
       "14455                              Uruma, Okinawa, Japan   \n",
       "\n",
       "                                           features  \\\n",
       "0              2 guests,2 bedrooms,1 bed,1 bathroom   \n",
       "1            4 guests,2 bedrooms,2 beds,2 bathrooms   \n",
       "2              4 guests,1 bedroom,3 beds,1 bathroom   \n",
       "3              4 guests,1 bedroom,2 beds,1 bathroom   \n",
       "4               2 guests,1 bedroom,1 bed,1 bathroom   \n",
       "...                                             ...   \n",
       "14451                          4 guests,8 bathrooms   \n",
       "14452     2 guests,1 bedroom,1 bed,Toilet with sink   \n",
       "14453  2 guests,1 bedroom,2 beds,1 private bathroom   \n",
       "14454      8 guests,2 bedrooms,4 beds,2.5 bathrooms   \n",
       "14455          5 guests,1 bedroom,2 beds,1 bathroom   \n",
       "\n",
       "                                               amenities  \\\n",
       "0      Mountain view,Valley view,Lake access,Kitchen,...   \n",
       "1      Kitchen,Wifi,Dedicated workspace,Free parking ...   \n",
       "2      Mountain view,Kitchen,Wifi,Dedicated workspace...   \n",
       "3      Mountain view,Valley view,Kitchen,Wifi,Free pa...   \n",
       "4      Kitchen,Wifi,Free parking on premises,TV,Air c...   \n",
       "...                                                  ...   \n",
       "14451  Kitchen,Wifi,Free parking on premises,Private ...   \n",
       "14452  Wifi,Free on-street parking,Air conditioning,G...   \n",
       "14453  Wifi,Breakfast,Long-term stays allowed,Unavail...   \n",
       "14454  Kitchen,Wifi,Dedicated workspace,Free parking ...   \n",
       "14455  Sea view,Beach access – Beachfront,Kitchen,Wif...   \n",
       "\n",
       "                                            safety_rules  \\\n",
       "0      󹀁,Airbnb's COVID-19 safety practices apply,󱠃,N...   \n",
       "1      󹀁,Airbnb's COVID-19 safety practices apply,󱠆,C...   \n",
       "2      󹀁,Airbnb's COVID-19 safety practices apply,󱠃,N...   \n",
       "3      󹀁,Airbnb's COVID-19 safety practices apply,󱠃,N...   \n",
       "4      󹀁,Airbnb's COVID-19 safety practices apply,󱠆,C...   \n",
       "...                                                  ...   \n",
       "14451  󹀁,Airbnb's COVID-19 safety practices apply,󱠁,C...   \n",
       "14452  󹀁,Airbnb's COVID-19 safety practices apply,󱠆,C...   \n",
       "14453  󹀁,Airbnb's COVID-19 safety practices apply,󱠃,N...   \n",
       "14454  󹀁,Airbnb's COVID-19 safety practices apply,󱠆,C...   \n",
       "14455  󹀁,Airbnb's COVID-19 safety practices apply,󱠃,S...   \n",
       "\n",
       "                                            hourse_rules  \\\n",
       "0      Check-in: Flexible,Check out: 12:00 pm,Pets ar...   \n",
       "1      Check-in: 4:00 pm - 11:00 pm,Check out: 10:00 ...   \n",
       "2      Check-in: After 1:00 pm,Check out: 12:00 pm,Se...   \n",
       "3      Check-in: After 2:00 pm,Check out: 12:00 pm,No...   \n",
       "4      Check-in: After 2:00 pm,Check out: 12:00 pm,No...   \n",
       "...                                                  ...   \n",
       "14451  Check-in: 3:00 pm - 11:00 pm,Check out: 11:00 ...   \n",
       "14452  Check-in: 3:00 pm - 10:00 pm,Check out: 12:00 ...   \n",
       "14453                            Check-in: After 3:00 pm   \n",
       "14454  Check-in: Flexible,Check out: 12:00 pm,No pets...   \n",
       "14455  Check-in: After 4:00 pm,Check out: 11:00 am,Se...   \n",
       "\n",
       "                                               img_links              price  \n",
       "0      https://a0.muscache.com/im/pictures/a5da5cb7-c...   ₹8,078 per night  \n",
       "1      https://a0.muscache.com/im/pictures/61b70855-2...   ₹4,665 per night  \n",
       "2      https://a0.muscache.com/im/pictures/miso/Hosti...   ₹5,991 per night  \n",
       "3      https://a0.muscache.com/im/pictures/72e6396e-e...  ₹11,339 per night  \n",
       "4      https://a0.muscache.com/im/pictures/73973308-e...   ₹6,673 per night  \n",
       "...                                                  ...                ...  \n",
       "14451  https://a0.muscache.com/im/pictures/miso/Hosti...   ₹4,288 per night  \n",
       "14452  https://a0.muscache.com/im/pictures/5ba944b2-b...  ₹15,200 per night  \n",
       "14453  https://a0.muscache.com/im/pictures/1f442c84-4...   ₹9,103 per night  \n",
       "14454  https://a0.muscache.com/im/pictures/105116799/...  ₹42,262 per night  \n",
       "14455  https://a0.muscache.com/im/pictures/9b04ee4c-c...   ₹9,909 per night  \n",
       "\n",
       "[14456 rows x 13 columns]"
      ]
     },
     "execution_count": 5,
     "metadata": {},
     "output_type": "execute_result"
    }
   ],
   "source": [
    "df = pd.read_csv('D:\\\\data cleaning\\\\datasets\\\\Airbnb\\\\airbnb.csv')\n",
    "df"
   ]
  },
  {
   "cell_type": "markdown",
   "metadata": {
    "id": "iUHn4OpP5Fk3"
   },
   "source": [
    "## **Removing columns**"
   ]
  },
  {
   "cell_type": "code",
   "execution_count": null,
   "metadata": {
    "id": "ZZH6anvj5KZM"
   },
   "outputs": [],
   "source": [
    "del df['img_links']\n",
    "del df['host_id']\n"
   ]
  },
  {
   "cell_type": "markdown",
   "metadata": {
    "id": "APtgqgNk4FyU"
   },
   "source": [
    "## **Checking for Null Values**"
   ]
  },
  {
   "cell_type": "code",
   "execution_count": null,
   "metadata": {
    "id": "lGPsr2Jp3uoj"
   },
   "outputs": [],
   "source": [
    "df.isnull().sum()"
   ]
  },
  {
   "cell_type": "code",
   "execution_count": null,
   "metadata": {
    "id": "pXo7BAxy01Fe"
   },
   "outputs": [],
   "source": [
    "# removing the null value in various columns\n",
    "df.dropna(subset = ['name','safety_rules', 'address']).isnull().sum() # name and host_name was the same so got removed together similiarly safety rules\n"
   ]
  },
  {
   "cell_type": "code",
   "execution_count": null,
   "metadata": {
    "id": "QLMR_w1X9xTA"
   },
   "outputs": [],
   "source": [
    "# NULL amenities were filled by the 0th index of the mode of all the amenities\n",
    "df['amenities'].fillna(df['amenities'].mode()[0], inplace = True)\n",
    "df.isnull().sum()"
   ]
  },
  {
   "cell_type": "code",
   "execution_count": null,
   "metadata": {
    "id": "Oou0uus08gBO"
   },
   "outputs": [],
   "source": [
    "# now trying to see for the reviews realised that wherever there is NEW in Rating, possibilty of having NULL in reviews is high but we have\n",
    "# 3 possible outcomes in reviews ( only where there is NEW in ratings) which are NULL,1,2,3. So 1,2,3 are ints so no need to adjust those but\n",
    "# replacing Null with 0 seems logical.\n",
    "\n",
    "df['reviews'] = df['reviews'].fillna('0')\n",
    "df = df.dropna(subset = ['name','safety_rules','address'])\n",
    "df.isnull().sum()\n",
    "\n",
    "\n"
   ]
  },
  {
   "cell_type": "markdown",
   "metadata": {
    "id": "Vnpd-eBZ7O0A"
   },
   "source": [
    "## **Searching and removing duplicates**"
   ]
  },
  {
   "cell_type": "code",
   "execution_count": null,
   "metadata": {
    "id": "9EEEF9qN982P"
   },
   "outputs": [],
   "source": [
    "# search for duplicates and remove if any\n",
    "df[df.duplicated()]\n",
    "\n",
    "\n",
    "df.drop_duplicates(subset = 'id', inplace = True)\n",
    "len(df)"
   ]
  },
  {
   "cell_type": "markdown",
   "metadata": {
    "id": "1SJUTkGR4AU1"
   },
   "source": [
    "## **Adding Columns**"
   ]
  },
  {
   "cell_type": "markdown",
   "metadata": {
    "id": "rIdlz9VFD1y7"
   },
   "source": [
    "#### **Country Column**"
   ]
  },
  {
   "cell_type": "code",
   "execution_count": null,
   "metadata": {
    "id": "eghytbxixrBG"
   },
   "outputs": [],
   "source": [
    "##### Making country column\n",
    "\n",
    "\n",
    "countries = []\n",
    "\n",
    "for ad in df['address']:\n",
    "  if type(ad) == str:\n",
    "    countries.append(ad.split(',')[-1])\n",
    "  else:\n",
    "    countries.append(\"Unknown\")\n",
    "\n",
    "df['country'] = countries\n",
    "df"
   ]
  },
  {
   "cell_type": "code",
   "execution_count": null,
   "metadata": {
    "id": "0IX3HaH0zOqQ"
   },
   "outputs": [],
   "source": [
    "df[df['country'] == 'Unknown']['country']"
   ]
  },
  {
   "cell_type": "markdown",
   "metadata": {
    "id": "rTYYouG27nJ4"
   },
   "source": [
    "### **Extracting Different Features**"
   ]
  },
  {
   "cell_type": "code",
   "execution_count": null,
   "metadata": {
    "id": "5KijqgOT7vnu"
   },
   "outputs": [],
   "source": [
    "df['features'].head(1000).unique()\n"
   ]
  },
  {
   "cell_type": "markdown",
   "metadata": {
    "id": "tlsvCPQE8L0J"
   },
   "source": [
    "**We realised that there is a need to clean this but this is not easy because for ex guest its either guest or guests and we are not even sure that the sequence is same or not or even guest is written or not we have to consider all the problems and then extract it.**"
   ]
  },
  {
   "cell_type": "markdown",
   "metadata": {
    "id": "uhZhvN8FD86b"
   },
   "source": [
    "#### **Guest Column**"
   ]
  },
  {
   "cell_type": "code",
   "execution_count": null,
   "metadata": {
    "id": "jI4S7tlM8dqc"
   },
   "outputs": [],
   "source": [
    "#### Adding guests column\n",
    "\n",
    "\n",
    "\n",
    "guests = []\n",
    "\n",
    "flag = False\n",
    "\n",
    "for i in df['features']:\n",
    "  for j in i.split(','):\n",
    "    if 'guest' in j:\n",
    "      guests.append(j.split(' ')[0])\n",
    "      flag = True\n",
    "\n",
    "  if flag == False:\n",
    "   guests.append('1')\n",
    "\n",
    "df['guests'] = guests\n",
    "df"
   ]
  },
  {
   "cell_type": "markdown",
   "metadata": {
    "id": "LwTSE2J7EAtI"
   },
   "source": [
    "#### **Bathrooms Column**"
   ]
  },
  {
   "cell_type": "code",
   "execution_count": null,
   "metadata": {
    "id": "xfNd9ggF9pnS"
   },
   "outputs": [],
   "source": [
    "### Adding bathrooms column\n",
    "\n",
    "\n",
    "\n",
    "bathrooms = []\n",
    "\n",
    "for i in df['features']:\n",
    "  flag  = False\n",
    "  for j in i.split(','):\n",
    "    if 'bath' in j:\n",
    "      bathrooms.append(j.split(' ')[0])\n",
    "      flag = True\n",
    "    elif 'toilet' in j:\n",
    "      bathrooms.append('0')\n",
    "      flag = True\n",
    "    elif 'Toilet' in j:\n",
    "      bathrooms.append('0')\n",
    "      flag = True\n",
    "\n",
    "\n",
    "  if flag == False:\n",
    "   bathrooms.append('1')\n",
    "\n",
    "df['bathrooms'] = bathrooms\n",
    "df\n",
    "\n"
   ]
  },
  {
   "cell_type": "markdown",
   "metadata": {
    "id": "bPO_dhb7EDvR"
   },
   "source": [
    "#### **Toilets Column**"
   ]
  },
  {
   "cell_type": "code",
   "execution_count": null,
   "metadata": {
    "id": "UC8408QBY3P5"
   },
   "outputs": [],
   "source": [
    "### Adding toilets column\n",
    "\n",
    "\n",
    "toilets = []\n",
    "\n",
    "for i in df['features']:\n",
    "  flag  = False\n",
    "  for j in i.split(','):\n",
    "    if 'toilet' in j:\n",
    "      toilets.append('1')\n",
    "      flag = True\n",
    "    elif 'Toilet' in j:\n",
    "      toilets.append('1')\n",
    "      flag = True\n",
    "\n",
    "\n",
    "  if flag == False:\n",
    "   toilets.append('0')\n",
    "\n",
    "df['toilets'] = toilets\n",
    "df"
   ]
  },
  {
   "cell_type": "markdown",
   "metadata": {
    "id": "Oh7htfRWEGQ8"
   },
   "source": [
    "#### **Price Column**"
   ]
  },
  {
   "cell_type": "code",
   "execution_count": null,
   "metadata": {
    "id": "9Qn8xPXaTIyi"
   },
   "outputs": [],
   "source": [
    "### Changing price column\n",
    "\n",
    "\n",
    "\n",
    "df['price'] = df['price'].apply(lambda x: x.replace('₹','').replace(',', '').split(' ')[0])\n",
    "df['price'] = df['price'].astype(int)\n",
    "df"
   ]
  },
  {
   "cell_type": "markdown",
   "metadata": {
    "id": "ot46wm_vEIbh"
   },
   "source": [
    "#### **Studios Column**"
   ]
  },
  {
   "cell_type": "code",
   "execution_count": null,
   "metadata": {
    "id": "h2ROTOo1bf94"
   },
   "outputs": [],
   "source": [
    "# Adding studios column\n",
    "\n",
    "\n",
    "\n",
    "studios = []\n",
    "\n",
    "for i in df['features']:\n",
    "  if 'Studio' in i.split(','):\n",
    "    studios.append(1)\n",
    "  else:\n",
    "    studios.append(0)\n",
    "\n",
    "df['studios'] = studios"
   ]
  },
  {
   "cell_type": "markdown",
   "metadata": {
    "id": "_VPBwPrjEK1w"
   },
   "source": [
    "#### **Bedrooms Column**"
   ]
  },
  {
   "cell_type": "code",
   "execution_count": null,
   "metadata": {
    "id": "RRZXxqu-dNce"
   },
   "outputs": [],
   "source": [
    "#### Making bedrooms column\n",
    "\n",
    "\n",
    "bedrooms = []\n",
    "\n",
    "\n",
    "for i in df['features']:\n",
    "  flag = False\n",
    "  for j in i.split(','):\n",
    "    if 'bedroom' in j:\n",
    "      bedrooms.append(j.split(' ')[0])\n",
    "      flag = True\n",
    "  if flag == False:\n",
    "    bedrooms.append('0')\n",
    "df['bedrooms'] = bedrooms\n",
    "df"
   ]
  },
  {
   "cell_type": "markdown",
   "metadata": {
    "id": "s01QZMLXENxi"
   },
   "source": [
    "#### Copying DF"
   ]
  },
  {
   "cell_type": "code",
   "execution_count": null,
   "metadata": {
    "id": "eR-URyTU0wEH"
   },
   "outputs": [],
   "source": [
    "# Making a copy of the df so that after making the bedrooms coulumn we can delete the bedroom word from the features series to find the beds column\n",
    "df_1 = df.copy()\n"
   ]
  },
  {
   "cell_type": "markdown",
   "metadata": {
    "id": "kpc-jRkYEQ5v"
   },
   "source": [
    "#### **Beds Column**"
   ]
  },
  {
   "cell_type": "code",
   "execution_count": null,
   "metadata": {
    "id": "aLOS6Cfn1zWc"
   },
   "outputs": [],
   "source": [
    "# Deleting the word bedrroms from the features series and then making the beds column\n",
    "\n",
    "df_1['features'] = df_1['features'].apply(lambda x: x.replace('bedroom','').replace('bedrooms', '').split(','))\n",
    "\n",
    "beds = []\n",
    "\n",
    "for i in df_1['features']:\n",
    "  flag = False\n",
    "  for j in i:\n",
    "    if 'bed' in j:\n",
    "      beds.append(j.split(' ')[0])\n",
    "      flag = True\n",
    "  if flag == False:\n",
    "    beds.append('0')\n",
    "df_1['beds'] = beds\n",
    "df_1\n",
    "\n",
    "\n",
    "\n"
   ]
  },
  {
   "cell_type": "code",
   "execution_count": null,
   "metadata": {
    "id": "KmUeua4e7JGk"
   },
   "outputs": [],
   "source": [
    "# Loading the beds column in the original df\n",
    "\n",
    "df['beds'] = df_1['beds']\n",
    "df"
   ]
  },
  {
   "cell_type": "markdown",
   "metadata": {
    "id": "cIIjqD9bEUCF"
   },
   "source": [
    "#### **Checkin Column**"
   ]
  },
  {
   "cell_type": "code",
   "execution_count": null,
   "metadata": {
    "id": "pwVbDVjK6x9D"
   },
   "outputs": [],
   "source": [
    "# Removing the word Check-in from the house_rules column\n",
    "df_1['hourse_rules'] = df_1['hourse_rules'].apply(lambda x: x.replace('Check-in:','').split(','))\n",
    "\n"
   ]
  },
  {
   "cell_type": "code",
   "execution_count": null,
   "metadata": {
    "id": "DtE_WBjv9QKN"
   },
   "outputs": [],
   "source": [
    "# Making Checkin column in the main df\n",
    "checkin = []\n",
    "\n",
    "for i in df_1['hourse_rules']:\n",
    "  checkin.append(i[0])\n",
    "\n",
    "df['checkin'] = checkin\n",
    "df"
   ]
  },
  {
   "cell_type": "markdown",
   "metadata": {
    "id": "u4D41JKbEWoO"
   },
   "source": [
    "#### **Checkout Column**"
   ]
  },
  {
   "cell_type": "code",
   "execution_count": null,
   "metadata": {
    "id": "PogR3GZ-BydP"
   },
   "outputs": [],
   "source": [
    "# Removing the word Check out from the house_rules column\n",
    "df_1 = df.copy()\n",
    "df_1['hourse_rules'] = df_1['hourse_rules'].apply(lambda x: x.replace('Check out:','').split(','))\n",
    "\n",
    "\n"
   ]
  },
  {
   "cell_type": "code",
   "execution_count": null,
   "metadata": {
    "id": "DbVy73BiC6wu"
   },
   "outputs": [],
   "source": [
    "#### Adding checkout column\n",
    "\n",
    "checkout = []\n",
    "\n",
    "for i in df_1['hourse_rules']:\n",
    "  if len(i) < 2:\n",
    "    checkout.append(None)\n",
    "  else:\n",
    "    checkout.append(i[1])\n",
    "\n",
    "df['checkout'] = checkout\n",
    "df"
   ]
  },
  {
   "cell_type": "markdown",
   "metadata": {
    "id": "GGNlutCzEapa"
   },
   "source": [
    "## **Final Airbnb_v3.csv**"
   ]
  },
  {
   "cell_type": "code",
   "execution_count": 1,
   "metadata": {
    "id": "JSCa0PPLEfMO"
   },
   "outputs": [
    {
     "name": "stdout",
     "output_type": "stream",
     "text": [
      "HELlo\n"
     ]
    }
   ],
   "source": [
    "s = 'hi'\n",
    "s."
   ]
  }
 ],
 "metadata": {
  "colab": {
   "provenance": []
  },
  "kernelspec": {
   "display_name": "Python 3 (ipykernel)",
   "language": "python",
   "name": "python3"
  },
  "language_info": {
   "codemirror_mode": {
    "name": "ipython",
    "version": 3
   },
   "file_extension": ".py",
   "mimetype": "text/x-python",
   "name": "python",
   "nbconvert_exporter": "python",
   "pygments_lexer": "ipython3",
   "version": "3.12.8"
  }
 },
 "nbformat": 4,
 "nbformat_minor": 4
}
