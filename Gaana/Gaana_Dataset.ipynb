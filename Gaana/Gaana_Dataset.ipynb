{
 "cells": [
  {
   "cell_type": "code",
   "execution_count": null,
   "metadata": {
    "colab": {
     "base_uri": "https://localhost:8080/"
    },
    "id": "DPBkZk5_E300",
    "outputId": "5e36cc19-5a2f-45f3-e402-b874d359f902"
   },
   "outputs": [
    {
     "name": "stdout",
     "output_type": "stream",
     "text": [
      "Cloning into 'datasets'...\n",
      "remote: Enumerating objects: 328, done.\u001b[K\n",
      "remote: Counting objects: 100% (93/93), done.\u001b[K\n",
      "remote: Compressing objects: 100% (83/83), done.\u001b[K\n",
      "remote: Total 328 (delta 19), reused 54 (delta 9), pack-reused 235 (from 1)\u001b[K\n",
      "Receiving objects: 100% (328/328), 278.62 MiB | 16.18 MiB/s, done.\n",
      "Resolving deltas: 100% (145/145), done.\n",
      "Updating files: 100% (225/225), done.\n"
     ]
    }
   ],
   "source": [
    "!git clone https://github.com/AshishJangra27/datasets\n"
   ]
  },
  {
   "cell_type": "code",
   "execution_count": null,
   "metadata": {
    "id": "B-5u37jKFMvz"
   },
   "outputs": [],
   "source": [
    "import pandas as pd\n"
   ]
  },
  {
   "cell_type": "markdown",
   "metadata": {
    "id": "xR-9v0lfFcLI"
   },
   "source": [
    "#**Dataset 1 - Gaana.com**"
   ]
  },
  {
   "cell_type": "code",
   "execution_count": null,
   "metadata": {
    "id": "fhawsco5FRQM"
   },
   "outputs": [],
   "source": [
    "df = pd.read_csv('/content/datasets/Gaana/songs.csv')\n"
   ]
  },
  {
   "cell_type": "markdown",
   "metadata": {
    "id": "kenietWbGZHC"
   },
   "source": [
    "###**Exploring the Dataset**"
   ]
  },
  {
   "cell_type": "code",
   "execution_count": null,
   "metadata": {
    "id": "wLKqb5LIFo5B"
   },
   "outputs": [],
   "source": [
    "df.head(10)"
   ]
  },
  {
   "cell_type": "markdown",
   "metadata": {
    "id": "mzRyVYsqGiM3"
   },
   "source": [
    "###**Checking NULL Values**"
   ]
  },
  {
   "cell_type": "code",
   "execution_count": null,
   "metadata": {
    "colab": {
     "base_uri": "https://localhost:8080/",
     "height": 272
    },
    "id": "wCwrkOHqGfQW",
    "outputId": "282a7a8e-2d49-4de8-d827-7e1a0a99d5da"
   },
   "outputs": [
    {
     "data": {
      "text/html": [
       "<div>\n",
       "<style scoped>\n",
       "    .dataframe tbody tr th:only-of-type {\n",
       "        vertical-align: middle;\n",
       "    }\n",
       "\n",
       "    .dataframe tbody tr th {\n",
       "        vertical-align: top;\n",
       "    }\n",
       "\n",
       "    .dataframe thead th {\n",
       "        text-align: right;\n",
       "    }\n",
       "</style>\n",
       "<table border=\"1\" class=\"dataframe\">\n",
       "  <thead>\n",
       "    <tr style=\"text-align: right;\">\n",
       "      <th></th>\n",
       "      <th>0</th>\n",
       "    </tr>\n",
       "  </thead>\n",
       "  <tbody>\n",
       "    <tr>\n",
       "      <th>name</th>\n",
       "      <td>0</td>\n",
       "    </tr>\n",
       "    <tr>\n",
       "      <th>singer</th>\n",
       "      <td>0</td>\n",
       "    </tr>\n",
       "    <tr>\n",
       "      <th>singer_id</th>\n",
       "      <td>0</td>\n",
       "    </tr>\n",
       "    <tr>\n",
       "      <th>duration</th>\n",
       "      <td>0</td>\n",
       "    </tr>\n",
       "    <tr>\n",
       "      <th>link</th>\n",
       "      <td>0</td>\n",
       "    </tr>\n",
       "    <tr>\n",
       "      <th>language</th>\n",
       "      <td>0</td>\n",
       "    </tr>\n",
       "  </tbody>\n",
       "</table>\n",
       "</div><br><label><b>dtype:</b> int64</label>"
      ],
      "text/plain": [
       "name         0\n",
       "singer       0\n",
       "singer_id    0\n",
       "duration     0\n",
       "link         0\n",
       "language     0\n",
       "dtype: int64"
      ]
     },
     "execution_count": 6,
     "metadata": {},
     "output_type": "execute_result"
    }
   ],
   "source": [
    "df.isnull().sum() # => no null value present so no need to think about replacing or something"
   ]
  },
  {
   "cell_type": "markdown",
   "metadata": {
    "id": "p4RAKOOEGwPg"
   },
   "source": [
    "###**Checking for Duplicates**\n"
   ]
  },
  {
   "cell_type": "code",
   "execution_count": null,
   "metadata": {
    "colab": {
     "base_uri": "https://localhost:8080/",
     "height": 195
    },
    "id": "PbKTRZKIGvok",
    "outputId": "d70f1b3a-4ef4-4f55-cfc7-ec929a2a5545"
   },
   "outputs": [
    {
     "name": "stdout",
     "output_type": "stream",
     "text": [
      "4994\n"
     ]
    },
    {
     "data": {
      "text/html": [
       "<div>\n",
       "<style scoped>\n",
       "    .dataframe tbody tr th:only-of-type {\n",
       "        vertical-align: middle;\n",
       "    }\n",
       "\n",
       "    .dataframe tbody tr th {\n",
       "        vertical-align: top;\n",
       "    }\n",
       "\n",
       "    .dataframe thead th {\n",
       "        text-align: right;\n",
       "    }\n",
       "</style>\n",
       "<table border=\"1\" class=\"dataframe\">\n",
       "  <thead>\n",
       "    <tr style=\"text-align: right;\">\n",
       "      <th></th>\n",
       "      <th>count</th>\n",
       "    </tr>\n",
       "    <tr>\n",
       "      <th>language</th>\n",
       "      <th></th>\n",
       "    </tr>\n",
       "  </thead>\n",
       "  <tbody>\n",
       "    <tr>\n",
       "      <th>Old</th>\n",
       "      <td>4993</td>\n",
       "    </tr>\n",
       "    <tr>\n",
       "      <th>Telugu</th>\n",
       "      <td>1</td>\n",
       "    </tr>\n",
       "  </tbody>\n",
       "</table>\n",
       "</div><br><label><b>dtype:</b> int64</label>"
      ],
      "text/plain": [
       "language\n",
       "Old       4993\n",
       "Telugu       1\n",
       "Name: count, dtype: int64"
      ]
     },
     "execution_count": 13,
     "metadata": {},
     "output_type": "execute_result"
    }
   ],
   "source": [
    "print(df.duplicated('link').sum()) # 4994 duplicate songs in the list\n",
    "\n",
    "df[df.duplicated('link')]['language'].value_counts() # Realising the OLD column is a full copy of hindi songs"
   ]
  },
  {
   "cell_type": "markdown",
   "metadata": {
    "id": "44cB8KbRHV0p"
   },
   "source": [
    "####**Removing the Duplicates**"
   ]
  },
  {
   "cell_type": "code",
   "execution_count": null,
   "metadata": {
    "colab": {
     "base_uri": "https://localhost:8080/"
    },
    "id": "rsJdog1jHYHZ",
    "outputId": "f2343184-cd53-4c68-89dc-ff0d259a494f"
   },
   "outputs": [
    {
     "name": "stdout",
     "output_type": "stream",
     "text": [
      "None\n",
      "language\n",
      "Telugu        4995\n",
      "Hindi         4993\n",
      "Marathi       4699\n",
      "Tamil         4677\n",
      "Punjabi       3818\n",
      "Kannada       3559\n",
      "Urdu          3116\n",
      "Gujarati      2115\n",
      "Bengali        958\n",
      "Odia           940\n",
      "Assamese       724\n",
      "Rajasthani     541\n",
      "Bhojpuri       519\n",
      "Malayalam      479\n",
      "Haryanvi       228\n",
      "Name: count, dtype: int64\n",
      "0\n",
      "36361\n"
     ]
    }
   ],
   "source": [
    "print(df.drop_duplicates(subset = 'link', inplace = True))\n",
    "print(df['language'].value_counts()) # Removed the whole Old language but now 1 Telugu song is also there which need to be removed\n",
    "print(df.duplicated('link').sum()) # no more duplicated songs\n",
    "print(df['link'].nunique())"
   ]
  },
  {
   "cell_type": "markdown",
   "metadata": {
    "id": "cR3oiDyfN5Qv"
   },
   "source": [
    "###**Creating Duration in Seconds Column**\n"
   ]
  },
  {
   "cell_type": "code",
   "execution_count": null,
   "metadata": {
    "colab": {
     "base_uri": "https://localhost:8080/",
     "height": 475
    },
    "id": "atB6PhpXODKI",
    "outputId": "ef9c07c6-1be0-4865-f0c5-e49ce95c669a"
   },
   "outputs": [
    {
     "data": {
      "application/vnd.google.colaboratory.intrinsic+json": {
       "summary": "{\n  \"name\": \"df\",\n  \"rows\": 36361,\n  \"fields\": [\n    {\n      \"column\": \"name\",\n      \"properties\": {\n        \"dtype\": \"string\",\n        \"num_unique_values\": 31534,\n        \"samples\": [\n          \"Dialogues With 3 Padyams - Medley\",\n          \"Malarathudikkum\",\n          \"Koluvye Unnade\"\n        ],\n        \"semantic_type\": \"\",\n        \"description\": \"\"\n      }\n    },\n    {\n      \"column\": \"singer\",\n      \"properties\": {\n        \"dtype\": \"category\",\n        \"num_unique_values\": 6196,\n        \"samples\": [\n          \"Naba|Sangeeta\",\n          \"Chittaranjan Jena|P. Susheela\",\n          \"Asha Bhosle|Ghulam Ali\"\n        ],\n        \"semantic_type\": \"\",\n        \"description\": \"\"\n      }\n    },\n    {\n      \"column\": \"singer_id\",\n      \"properties\": {\n        \"dtype\": \"category\",\n        \"num_unique_values\": 6580,\n        \"samples\": [\n          \"/artist/pandit-hariprasad-chaurasia\",\n          \"/artist/mohammad-rafi|/artist/chorus\",\n          \"/artist/jaspinder-narula|/artist/kumar-sanu\"\n        ],\n        \"semantic_type\": \"\",\n        \"description\": \"\"\n      }\n    },\n    {\n      \"column\": \"duration\",\n      \"properties\": {\n        \"dtype\": \"category\",\n        \"num_unique_values\": 1309,\n        \"samples\": [\n          \"03:02\",\n          \"04:41\",\n          \"05:48\"\n        ],\n        \"semantic_type\": \"\",\n        \"description\": \"\"\n      }\n    },\n    {\n      \"column\": \"link\",\n      \"properties\": {\n        \"dtype\": \"string\",\n        \"num_unique_values\": 36361,\n        \"samples\": [\n          \"/vanthu-nindran\",\n          \"/pallavi-ellamal-padukeran-1-1\",\n          \"/adi-nagu\"\n        ],\n        \"semantic_type\": \"\",\n        \"description\": \"\"\n      }\n    },\n    {\n      \"column\": \"language\",\n      \"properties\": {\n        \"dtype\": \"category\",\n        \"num_unique_values\": 15,\n        \"samples\": [\n          \"Gujarati\",\n          \"Bengali\",\n          \"Punjabi\"\n        ],\n        \"semantic_type\": \"\",\n        \"description\": \"\"\n      }\n    },\n    {\n      \"column\": \"duration_in_seconds\",\n      \"properties\": {\n        \"dtype\": \"number\",\n        \"std\": 586,\n        \"min\": 17,\n        \"max\": 25680,\n        \"num_unique_values\": 1309,\n        \"samples\": [\n          182,\n          281,\n          348\n        ],\n        \"semantic_type\": \"\",\n        \"description\": \"\"\n      }\n    }\n  ]\n}",
       "type": "dataframe"
      },
      "text/html": [
       "\n",
       "  <div id=\"df-8931a9c5-04d9-4c50-87fe-69ad3c28697e\" class=\"colab-df-container\">\n",
       "    <div>\n",
       "<style scoped>\n",
       "    .dataframe tbody tr th:only-of-type {\n",
       "        vertical-align: middle;\n",
       "    }\n",
       "\n",
       "    .dataframe tbody tr th {\n",
       "        vertical-align: top;\n",
       "    }\n",
       "\n",
       "    .dataframe thead th {\n",
       "        text-align: right;\n",
       "    }\n",
       "</style>\n",
       "<table border=\"1\" class=\"dataframe\">\n",
       "  <thead>\n",
       "    <tr style=\"text-align: right;\">\n",
       "      <th></th>\n",
       "      <th>name</th>\n",
       "      <th>singer</th>\n",
       "      <th>singer_id</th>\n",
       "      <th>duration</th>\n",
       "      <th>link</th>\n",
       "      <th>language</th>\n",
       "      <th>duration_in_seconds</th>\n",
       "    </tr>\n",
       "  </thead>\n",
       "  <tbody>\n",
       "    <tr>\n",
       "      <th>16093</th>\n",
       "      <td>Haye Tumba</td>\n",
       "      <td>Dilshad Akhtar</td>\n",
       "      <td>/artist/dilshad-akhtar</td>\n",
       "      <td>07:08:00</td>\n",
       "      <td>/haye-tumba</td>\n",
       "      <td>Punjabi</td>\n",
       "      <td>25680</td>\n",
       "    </tr>\n",
       "    <tr>\n",
       "      <th>16352</th>\n",
       "      <td>Bum Bum Lahiri</td>\n",
       "      <td>Dilshad Akhtar</td>\n",
       "      <td>/artist/dilshad-akhtar</td>\n",
       "      <td>06:52:00</td>\n",
       "      <td>/bum-bum-lahiri</td>\n",
       "      <td>Punjabi</td>\n",
       "      <td>24720</td>\n",
       "    </tr>\n",
       "    <tr>\n",
       "      <th>15000</th>\n",
       "      <td>Bum Bum Lahiri</td>\n",
       "      <td>Dilshad Akhtar</td>\n",
       "      <td>/artist/dilshad-akhtar</td>\n",
       "      <td>06:52:00</td>\n",
       "      <td>/bum-bum-lahiri-1</td>\n",
       "      <td>Punjabi</td>\n",
       "      <td>24720</td>\n",
       "    </tr>\n",
       "    <tr>\n",
       "      <th>15025</th>\n",
       "      <td>Kanu Atharu Bahoundi</td>\n",
       "      <td>Dilshad Akhtar</td>\n",
       "      <td>/artist/dilshad-akhtar</td>\n",
       "      <td>06:04:00</td>\n",
       "      <td>/kanu-atharu-bahoundi</td>\n",
       "      <td>Punjabi</td>\n",
       "      <td>21840</td>\n",
       "    </tr>\n",
       "    <tr>\n",
       "      <th>14624</th>\n",
       "      <td>Desi Bandri Vilayati Cheekan</td>\n",
       "      <td>Dilshad Akhtar</td>\n",
       "      <td>/artist/dilshad-akhtar</td>\n",
       "      <td>06:03:00</td>\n",
       "      <td>/desi-bandri-vilayati-cheekan-1</td>\n",
       "      <td>Punjabi</td>\n",
       "      <td>21780</td>\n",
       "    </tr>\n",
       "    <tr>\n",
       "      <th>...</th>\n",
       "      <td>...</td>\n",
       "      <td>...</td>\n",
       "      <td>...</td>\n",
       "      <td>...</td>\n",
       "      <td>...</td>\n",
       "      <td>...</td>\n",
       "      <td>...</td>\n",
       "    </tr>\n",
       "    <tr>\n",
       "      <th>9480</th>\n",
       "      <td>Sppech By Sabapathipillai</td>\n",
       "      <td>S. GOVINDARAJAN</td>\n",
       "      <td>/artist/s-govindarajan-1</td>\n",
       "      <td>00:19</td>\n",
       "      <td>/sppech-by-sabapathipillai</td>\n",
       "      <td>Tamil</td>\n",
       "      <td>19</td>\n",
       "    </tr>\n",
       "    <tr>\n",
       "      <th>36778</th>\n",
       "      <td>Introduction Telegu Films Idi Mallelavela</td>\n",
       "      <td>K. Murari</td>\n",
       "      <td>/artist/k-murari</td>\n",
       "      <td>00:18</td>\n",
       "      <td>/introduction-telegu-films-idi-mallelavela</td>\n",
       "      <td>Telugu</td>\n",
       "      <td>18</td>\n",
       "    </tr>\n",
       "    <tr>\n",
       "      <th>6500</th>\n",
       "      <td>Dialogues</td>\n",
       "      <td>Savitri|Sivaji Ganesan|Nagesh|K. R. Vijaya|R. ...</td>\n",
       "      <td>/artist/savitri|/artist/sivaji-ganesan|/artist...</td>\n",
       "      <td>00:18</td>\n",
       "      <td>/dialogues-185</td>\n",
       "      <td>Tamil</td>\n",
       "      <td>18</td>\n",
       "    </tr>\n",
       "    <tr>\n",
       "      <th>35561</th>\n",
       "      <td>Title Musics - Jagadekaveeruni Katha</td>\n",
       "      <td>Gurucharan</td>\n",
       "      <td>/artist/gurucharan</td>\n",
       "      <td>00:17</td>\n",
       "      <td>/title-musics</td>\n",
       "      <td>Telugu</td>\n",
       "      <td>17</td>\n",
       "    </tr>\n",
       "    <tr>\n",
       "      <th>22952</th>\n",
       "      <td>Dialogues (Ghulami): Aahi Jaana Mere Liye</td>\n",
       "      <td>Ost</td>\n",
       "      <td>/artist/ost</td>\n",
       "      <td>00:17</td>\n",
       "      <td>/dialogue-aahi-jana-mere-liye</td>\n",
       "      <td>Hindi</td>\n",
       "      <td>17</td>\n",
       "    </tr>\n",
       "  </tbody>\n",
       "</table>\n",
       "<p>36361 rows × 7 columns</p>\n",
       "</div>\n",
       "    <div class=\"colab-df-buttons\">\n",
       "\n",
       "  <div class=\"colab-df-container\">\n",
       "    <button class=\"colab-df-convert\" onclick=\"convertToInteractive('df-8931a9c5-04d9-4c50-87fe-69ad3c28697e')\"\n",
       "            title=\"Convert this dataframe to an interactive table.\"\n",
       "            style=\"display:none;\">\n",
       "\n",
       "  <svg xmlns=\"http://www.w3.org/2000/svg\" height=\"24px\" viewBox=\"0 -960 960 960\">\n",
       "    <path d=\"M120-120v-720h720v720H120Zm60-500h600v-160H180v160Zm220 220h160v-160H400v160Zm0 220h160v-160H400v160ZM180-400h160v-160H180v160Zm440 0h160v-160H620v160ZM180-180h160v-160H180v160Zm440 0h160v-160H620v160Z\"/>\n",
       "  </svg>\n",
       "    </button>\n",
       "\n",
       "  <style>\n",
       "    .colab-df-container {\n",
       "      display:flex;\n",
       "      gap: 12px;\n",
       "    }\n",
       "\n",
       "    .colab-df-convert {\n",
       "      background-color: #E8F0FE;\n",
       "      border: none;\n",
       "      border-radius: 50%;\n",
       "      cursor: pointer;\n",
       "      display: none;\n",
       "      fill: #1967D2;\n",
       "      height: 32px;\n",
       "      padding: 0 0 0 0;\n",
       "      width: 32px;\n",
       "    }\n",
       "\n",
       "    .colab-df-convert:hover {\n",
       "      background-color: #E2EBFA;\n",
       "      box-shadow: 0px 1px 2px rgba(60, 64, 67, 0.3), 0px 1px 3px 1px rgba(60, 64, 67, 0.15);\n",
       "      fill: #174EA6;\n",
       "    }\n",
       "\n",
       "    .colab-df-buttons div {\n",
       "      margin-bottom: 4px;\n",
       "    }\n",
       "\n",
       "    [theme=dark] .colab-df-convert {\n",
       "      background-color: #3B4455;\n",
       "      fill: #D2E3FC;\n",
       "    }\n",
       "\n",
       "    [theme=dark] .colab-df-convert:hover {\n",
       "      background-color: #434B5C;\n",
       "      box-shadow: 0px 1px 3px 1px rgba(0, 0, 0, 0.15);\n",
       "      filter: drop-shadow(0px 1px 2px rgba(0, 0, 0, 0.3));\n",
       "      fill: #FFFFFF;\n",
       "    }\n",
       "  </style>\n",
       "\n",
       "    <script>\n",
       "      const buttonEl =\n",
       "        document.querySelector('#df-8931a9c5-04d9-4c50-87fe-69ad3c28697e button.colab-df-convert');\n",
       "      buttonEl.style.display =\n",
       "        google.colab.kernel.accessAllowed ? 'block' : 'none';\n",
       "\n",
       "      async function convertToInteractive(key) {\n",
       "        const element = document.querySelector('#df-8931a9c5-04d9-4c50-87fe-69ad3c28697e');\n",
       "        const dataTable =\n",
       "          await google.colab.kernel.invokeFunction('convertToInteractive',\n",
       "                                                    [key], {});\n",
       "        if (!dataTable) return;\n",
       "\n",
       "        const docLinkHtml = 'Like what you see? Visit the ' +\n",
       "          '<a target=\"_blank\" href=https://colab.research.google.com/notebooks/data_table.ipynb>data table notebook</a>'\n",
       "          + ' to learn more about interactive tables.';\n",
       "        element.innerHTML = '';\n",
       "        dataTable['output_type'] = 'display_data';\n",
       "        await google.colab.output.renderOutput(dataTable, element);\n",
       "        const docLink = document.createElement('div');\n",
       "        docLink.innerHTML = docLinkHtml;\n",
       "        element.appendChild(docLink);\n",
       "      }\n",
       "    </script>\n",
       "  </div>\n",
       "\n",
       "\n",
       "<div id=\"df-1dde9a3c-aced-42b9-aaea-41611179d366\">\n",
       "  <button class=\"colab-df-quickchart\" onclick=\"quickchart('df-1dde9a3c-aced-42b9-aaea-41611179d366')\"\n",
       "            title=\"Suggest charts\"\n",
       "            style=\"display:none;\">\n",
       "\n",
       "<svg xmlns=\"http://www.w3.org/2000/svg\" height=\"24px\"viewBox=\"0 0 24 24\"\n",
       "     width=\"24px\">\n",
       "    <g>\n",
       "        <path d=\"M19 3H5c-1.1 0-2 .9-2 2v14c0 1.1.9 2 2 2h14c1.1 0 2-.9 2-2V5c0-1.1-.9-2-2-2zM9 17H7v-7h2v7zm4 0h-2V7h2v10zm4 0h-2v-4h2v4z\"/>\n",
       "    </g>\n",
       "</svg>\n",
       "  </button>\n",
       "\n",
       "<style>\n",
       "  .colab-df-quickchart {\n",
       "      --bg-color: #E8F0FE;\n",
       "      --fill-color: #1967D2;\n",
       "      --hover-bg-color: #E2EBFA;\n",
       "      --hover-fill-color: #174EA6;\n",
       "      --disabled-fill-color: #AAA;\n",
       "      --disabled-bg-color: #DDD;\n",
       "  }\n",
       "\n",
       "  [theme=dark] .colab-df-quickchart {\n",
       "      --bg-color: #3B4455;\n",
       "      --fill-color: #D2E3FC;\n",
       "      --hover-bg-color: #434B5C;\n",
       "      --hover-fill-color: #FFFFFF;\n",
       "      --disabled-bg-color: #3B4455;\n",
       "      --disabled-fill-color: #666;\n",
       "  }\n",
       "\n",
       "  .colab-df-quickchart {\n",
       "    background-color: var(--bg-color);\n",
       "    border: none;\n",
       "    border-radius: 50%;\n",
       "    cursor: pointer;\n",
       "    display: none;\n",
       "    fill: var(--fill-color);\n",
       "    height: 32px;\n",
       "    padding: 0;\n",
       "    width: 32px;\n",
       "  }\n",
       "\n",
       "  .colab-df-quickchart:hover {\n",
       "    background-color: var(--hover-bg-color);\n",
       "    box-shadow: 0 1px 2px rgba(60, 64, 67, 0.3), 0 1px 3px 1px rgba(60, 64, 67, 0.15);\n",
       "    fill: var(--button-hover-fill-color);\n",
       "  }\n",
       "\n",
       "  .colab-df-quickchart-complete:disabled,\n",
       "  .colab-df-quickchart-complete:disabled:hover {\n",
       "    background-color: var(--disabled-bg-color);\n",
       "    fill: var(--disabled-fill-color);\n",
       "    box-shadow: none;\n",
       "  }\n",
       "\n",
       "  .colab-df-spinner {\n",
       "    border: 2px solid var(--fill-color);\n",
       "    border-color: transparent;\n",
       "    border-bottom-color: var(--fill-color);\n",
       "    animation:\n",
       "      spin 1s steps(1) infinite;\n",
       "  }\n",
       "\n",
       "  @keyframes spin {\n",
       "    0% {\n",
       "      border-color: transparent;\n",
       "      border-bottom-color: var(--fill-color);\n",
       "      border-left-color: var(--fill-color);\n",
       "    }\n",
       "    20% {\n",
       "      border-color: transparent;\n",
       "      border-left-color: var(--fill-color);\n",
       "      border-top-color: var(--fill-color);\n",
       "    }\n",
       "    30% {\n",
       "      border-color: transparent;\n",
       "      border-left-color: var(--fill-color);\n",
       "      border-top-color: var(--fill-color);\n",
       "      border-right-color: var(--fill-color);\n",
       "    }\n",
       "    40% {\n",
       "      border-color: transparent;\n",
       "      border-right-color: var(--fill-color);\n",
       "      border-top-color: var(--fill-color);\n",
       "    }\n",
       "    60% {\n",
       "      border-color: transparent;\n",
       "      border-right-color: var(--fill-color);\n",
       "    }\n",
       "    80% {\n",
       "      border-color: transparent;\n",
       "      border-right-color: var(--fill-color);\n",
       "      border-bottom-color: var(--fill-color);\n",
       "    }\n",
       "    90% {\n",
       "      border-color: transparent;\n",
       "      border-bottom-color: var(--fill-color);\n",
       "    }\n",
       "  }\n",
       "</style>\n",
       "\n",
       "  <script>\n",
       "    async function quickchart(key) {\n",
       "      const quickchartButtonEl =\n",
       "        document.querySelector('#' + key + ' button');\n",
       "      quickchartButtonEl.disabled = true;  // To prevent multiple clicks.\n",
       "      quickchartButtonEl.classList.add('colab-df-spinner');\n",
       "      try {\n",
       "        const charts = await google.colab.kernel.invokeFunction(\n",
       "            'suggestCharts', [key], {});\n",
       "      } catch (error) {\n",
       "        console.error('Error during call to suggestCharts:', error);\n",
       "      }\n",
       "      quickchartButtonEl.classList.remove('colab-df-spinner');\n",
       "      quickchartButtonEl.classList.add('colab-df-quickchart-complete');\n",
       "    }\n",
       "    (() => {\n",
       "      let quickchartButtonEl =\n",
       "        document.querySelector('#df-1dde9a3c-aced-42b9-aaea-41611179d366 button');\n",
       "      quickchartButtonEl.style.display =\n",
       "        google.colab.kernel.accessAllowed ? 'block' : 'none';\n",
       "    })();\n",
       "  </script>\n",
       "</div>\n",
       "\n",
       "    </div>\n",
       "  </div>\n"
      ],
      "text/plain": [
       "                                            name  \\\n",
       "16093                                 Haye Tumba   \n",
       "16352                             Bum Bum Lahiri   \n",
       "15000                             Bum Bum Lahiri   \n",
       "15025                       Kanu Atharu Bahoundi   \n",
       "14624               Desi Bandri Vilayati Cheekan   \n",
       "...                                          ...   \n",
       "9480                   Sppech By Sabapathipillai   \n",
       "36778  Introduction Telegu Films Idi Mallelavela   \n",
       "6500                                   Dialogues   \n",
       "35561       Title Musics - Jagadekaveeruni Katha   \n",
       "22952  Dialogues (Ghulami): Aahi Jaana Mere Liye   \n",
       "\n",
       "                                                  singer  \\\n",
       "16093                                     Dilshad Akhtar   \n",
       "16352                                     Dilshad Akhtar   \n",
       "15000                                     Dilshad Akhtar   \n",
       "15025                                     Dilshad Akhtar   \n",
       "14624                                     Dilshad Akhtar   \n",
       "...                                                  ...   \n",
       "9480                                     S. GOVINDARAJAN   \n",
       "36778                                          K. Murari   \n",
       "6500   Savitri|Sivaji Ganesan|Nagesh|K. R. Vijaya|R. ...   \n",
       "35561                                         Gurucharan   \n",
       "22952                                                Ost   \n",
       "\n",
       "                                               singer_id  duration  \\\n",
       "16093                             /artist/dilshad-akhtar  07:08:00   \n",
       "16352                             /artist/dilshad-akhtar  06:52:00   \n",
       "15000                             /artist/dilshad-akhtar  06:52:00   \n",
       "15025                             /artist/dilshad-akhtar  06:04:00   \n",
       "14624                             /artist/dilshad-akhtar  06:03:00   \n",
       "...                                                  ...       ...   \n",
       "9480                            /artist/s-govindarajan-1     00:19   \n",
       "36778                                   /artist/k-murari     00:18   \n",
       "6500   /artist/savitri|/artist/sivaji-ganesan|/artist...     00:18   \n",
       "35561                                 /artist/gurucharan     00:17   \n",
       "22952                                        /artist/ost     00:17   \n",
       "\n",
       "                                             link language  \\\n",
       "16093                                 /haye-tumba  Punjabi   \n",
       "16352                             /bum-bum-lahiri  Punjabi   \n",
       "15000                           /bum-bum-lahiri-1  Punjabi   \n",
       "15025                       /kanu-atharu-bahoundi  Punjabi   \n",
       "14624             /desi-bandri-vilayati-cheekan-1  Punjabi   \n",
       "...                                           ...      ...   \n",
       "9480                   /sppech-by-sabapathipillai    Tamil   \n",
       "36778  /introduction-telegu-films-idi-mallelavela   Telugu   \n",
       "6500                               /dialogues-185    Tamil   \n",
       "35561                               /title-musics   Telugu   \n",
       "22952               /dialogue-aahi-jana-mere-liye    Hindi   \n",
       "\n",
       "       duration_in_seconds  \n",
       "16093                25680  \n",
       "16352                24720  \n",
       "15000                24720  \n",
       "15025                21840  \n",
       "14624                21780  \n",
       "...                    ...  \n",
       "9480                    19  \n",
       "36778                   18  \n",
       "6500                    18  \n",
       "35561                   17  \n",
       "22952                   17  \n",
       "\n",
       "[36361 rows x 7 columns]"
      ]
     },
     "execution_count": 27,
     "metadata": {},
     "output_type": "execute_result"
    }
   ],
   "source": [
    "duration_in_seconds = []\n",
    "\n",
    "for dur in df['duration']:\n",
    "    parts = dur.split(':')\n",
    "    if len(parts) == 2:  # Format is MM:SS\n",
    "        minutes = int(parts[0])\n",
    "        seconds = int(parts[1])\n",
    "        total_seconds = minutes * 60 + seconds\n",
    "    elif len(parts) == 3:  # Format is HH:MM:SS\n",
    "        hours = int(parts[0])\n",
    "        minutes = int(parts[1])\n",
    "        seconds = int(parts[2])\n",
    "        total_seconds = hours * 3600 + minutes * 60 + seconds\n",
    "    else:\n",
    "        raise ValueError(f\"Invalid duration format: {dur}\")\n",
    "\n",
    "    duration_in_seconds.append(total_seconds)\n",
    "\n",
    "# Add the new column to the DataFrame\n",
    "df['duration_in_seconds'] = duration_in_seconds\n",
    "\n",
    "df.sort_values(by = 'duration_in_seconds', ascending = False)"
   ]
  },
  {
   "cell_type": "markdown",
   "metadata": {
    "id": "b2fFc0cXO1uY"
   },
   "source": [
    "###**Adding a Column with the Number od Singers in the song**"
   ]
  },
  {
   "cell_type": "code",
   "execution_count": null,
   "metadata": {
    "id": "LvHKMxAiO7We"
   },
   "outputs": [],
   "source": [
    "df['no_of_singers'] = df['singer'].str.split('|').str.len()\n",
    "df"
   ]
  },
  {
   "cell_type": "markdown",
   "metadata": {
    "id": "xiTdHzPVOGcY"
   },
   "source": [
    "###**Sample Questions**"
   ]
  },
  {
   "cell_type": "code",
   "execution_count": null,
   "metadata": {
    "id": "-MyeR4GcOFR6"
   },
   "outputs": [],
   "source": [
    "# number of sings in hindi\n",
    "print(len(df[df['language'] == 'Hindi']))\n",
    "\n",
    "# singles by Jagjit Singh\n",
    "print(len(df[df['singer'] == 'Jagjit Singh']))\n",
    "\n",
    "# Total unique songs\n",
    "print(len(df['link'].unique())) # we dont use name because if link is diferent the song is definitely different\n",
    "\n",
    "# language with maximum number of songs\n",
    "print(df['language'].value_counts().head(1).index[0])\n",
    "\n",
    "# singer with maximum solo\n",
    "print(df['singer'].value_counts().idxmax())\n",
    "\n",
    "# songs of Jagjit Singh in Urdu\n",
    "print(len(df[(df['singer'] == 'Jagjit Singh') & (df['language'] == 'Urdu')]))\n",
    "\n",
    "# average length of songs in Hindi\n",
    "print(int(df[df['language']== 'Hindi']['duration_in_seconds'].mean()))\n",
    "\n",
    "# top 10 singers with maximum singles\n",
    "df['no_of_singers'] = df['singer'].str.split('|').str.len()\n",
    "print(df[df['no_of_singers'] == 1]['singer'].value_counts().head(10))\n",
    "\n",
    "# number of song with the maximum number of singers\n",
    "print(df.sort_values(by = 'no_of_singers', ascending = False).head(1)) # check\n",
    "\n",
    "# total number of songs by Jagjit Singh\n",
    "print((df['singer_id'].str.split('|').explode() == '/artist/jagjeet-singh-1').sum())\n",
    "\n",
    "# language with maximum average length of songs\n",
    "print(df.groupby('language')['duration_in_seconds'].mean().idxmax())\n"
   ]
  },
  {
   "cell_type": "code",
   "execution_count": null,
   "metadata": {
    "colab": {
     "base_uri": "https://localhost:8080/",
     "height": 466
    },
    "id": "H5O3_XsDPHQR",
    "outputId": "8bd5986c-3c60-4728-a86b-e6be983a3316"
   },
   "outputs": [
    {
     "data": {
      "text/plain": [
       "<Axes: xlabel='language'>"
      ]
     },
     "execution_count": 36,
     "metadata": {},
     "output_type": "execute_result"
    },
    {
     "data": {
      "image/png": "[encoded data removed]",
      "text/plain": [
       "<Figure size 640x480 with 1 Axes>"
      ]
     },
     "metadata": {},
     "output_type": "display_data"
    }
   ],
   "source": [
    "df.groupby('language')['duration_in_seconds'].mean().sort_values(ascending = False).plot(kind = 'line')"
   ]
  }
 ],
 "metadata": {
  "colab": {
   "provenance": []
  },
  "kernelspec": {
   "display_name": "Python 3 (ipykernel)",
   "language": "python",
   "name": "python3"
  },
  "language_info": {
   "codemirror_mode": {
    "name": "ipython",
    "version": 3
   },
   "file_extension": ".py",
   "mimetype": "text/x-python",
   "name": "python",
   "nbconvert_exporter": "python",
   "pygments_lexer": "ipython3",
   "version": "3.12.8"
  }
 },
 "nbformat": 4,
 "nbformat_minor": 1
}
